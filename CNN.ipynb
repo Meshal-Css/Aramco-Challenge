{
  "nbformat": 4,
  "nbformat_minor": 0,
  "metadata": {
    "colab": {
      "provenance": [],
      "gpuType": "T4",
      "authorship_tag": "ABX9TyO6fZ7tuxHpxcvYSHpOhWZN",
      "include_colab_link": true
    },
    "kernelspec": {
      "name": "python3",
      "display_name": "Python 3"
    },
    "language_info": {
      "name": "python"
    },
    "accelerator": "GPU"
  },
  "cells": [
    {
      "cell_type": "markdown",
      "metadata": {
        "id": "view-in-github",
        "colab_type": "text"
      },
      "source": [
        "<a href=\"https://colab.research.google.com/github/Meshal-Css/Aramco-Challenge/blob/main/CNN.ipynb\" target=\"_parent\"><img src=\"https://colab.research.google.com/assets/colab-badge.svg\" alt=\"Open In Colab\"/></a>"
      ]
    },
    {
      "cell_type": "code",
      "execution_count": 1,
      "metadata": {
        "colab": {
          "base_uri": "https://localhost:8080/"
        },
        "id": "UBIkSHMseMXO",
        "outputId": "7afc28b7-decc-46a5-84e4-9b02bcda855e"
      },
      "outputs": [
        {
          "output_type": "stream",
          "name": "stdout",
          "text": [
            "\u001b[2K   \u001b[90m━━━━━━━━━━━━━━━━━━━━━━━━━━━━━━━━━━━━━━━━\u001b[0m \u001b[32m2.9/2.9 MB\u001b[0m \u001b[31m53.3 MB/s\u001b[0m eta \u001b[36m0:00:00\u001b[0m\n",
            "\u001b[2K   \u001b[90m━━━━━━━━━━━━━━━━━━━━━━━━━━━━━━━━━━━━━━━━\u001b[0m \u001b[32m363.4/363.4 MB\u001b[0m \u001b[31m4.4 MB/s\u001b[0m eta \u001b[36m0:00:00\u001b[0m\n",
            "\u001b[2K   \u001b[90m━━━━━━━━━━━━━━━━━━━━━━━━━━━━━━━━━━━━━━━━\u001b[0m \u001b[32m13.8/13.8 MB\u001b[0m \u001b[31m120.8 MB/s\u001b[0m eta \u001b[36m0:00:00\u001b[0m\n",
            "\u001b[2K   \u001b[90m━━━━━━━━━━━━━━━━━━━━━━━━━━━━━━━━━━━━━━━━\u001b[0m \u001b[32m24.6/24.6 MB\u001b[0m \u001b[31m95.2 MB/s\u001b[0m eta \u001b[36m0:00:00\u001b[0m\n",
            "\u001b[2K   \u001b[90m━━━━━━━━━━━━━━━━━━━━━━━━━━━━━━━━━━━━━━━━\u001b[0m \u001b[32m883.7/883.7 kB\u001b[0m \u001b[31m58.9 MB/s\u001b[0m eta \u001b[36m0:00:00\u001b[0m\n",
            "\u001b[2K   \u001b[90m━━━━━━━━━━━━━━━━━━━━━━━━━━━━━━━━━━━━━━━━\u001b[0m \u001b[32m664.8/664.8 MB\u001b[0m \u001b[31m2.9 MB/s\u001b[0m eta \u001b[36m0:00:00\u001b[0m\n",
            "\u001b[2K   \u001b[90m━━━━━━━━━━━━━━━━━━━━━━━━━━━━━━━━━━━━━━━━\u001b[0m \u001b[32m211.5/211.5 MB\u001b[0m \u001b[31m5.5 MB/s\u001b[0m eta \u001b[36m0:00:00\u001b[0m\n",
            "\u001b[2K   \u001b[90m━━━━━━━━━━━━━━━━━━━━━━━━━━━━━━━━━━━━━━━━\u001b[0m \u001b[32m56.3/56.3 MB\u001b[0m \u001b[31m12.5 MB/s\u001b[0m eta \u001b[36m0:00:00\u001b[0m\n",
            "\u001b[2K   \u001b[90m━━━━━━━━━━━━━━━━━━━━━━━━━━━━━━━━━━━━━━━━\u001b[0m \u001b[32m127.9/127.9 MB\u001b[0m \u001b[31m7.1 MB/s\u001b[0m eta \u001b[36m0:00:00\u001b[0m\n",
            "\u001b[2K   \u001b[90m━━━━━━━━━━━━━━━━━━━━━━━━━━━━━━━━━━━━━━━━\u001b[0m \u001b[32m207.5/207.5 MB\u001b[0m \u001b[31m5.6 MB/s\u001b[0m eta \u001b[36m0:00:00\u001b[0m\n",
            "\u001b[2K   \u001b[90m━━━━━━━━━━━━━━━━━━━━━━━━━━━━━━━━━━━━━━━━\u001b[0m \u001b[32m188.7/188.7 MB\u001b[0m \u001b[31m5.9 MB/s\u001b[0m eta \u001b[36m0:00:00\u001b[0m\n",
            "\u001b[2K   \u001b[90m━━━━━━━━━━━━━━━━━━━━━━━━━━━━━━━━━━━━━━━━\u001b[0m \u001b[32m21.1/21.1 MB\u001b[0m \u001b[31m101.4 MB/s\u001b[0m eta \u001b[36m0:00:00\u001b[0m\n",
            "\u001b[2K   \u001b[90m━━━━━━━━━━━━━━━━━━━━━━━━━━━━━━━━━━━━━━━━\u001b[0m \u001b[32m180.7/180.7 kB\u001b[0m \u001b[31m19.1 MB/s\u001b[0m eta \u001b[36m0:00:00\u001b[0m\n",
            "\u001b[2K   \u001b[90m━━━━━━━━━━━━━━━━━━━━━━━━━━━━━━━━━━━━━━━━\u001b[0m \u001b[32m969.6/969.6 kB\u001b[0m \u001b[31m60.6 MB/s\u001b[0m eta \u001b[36m0:00:00\u001b[0m\n",
            "\u001b[2K   \u001b[90m━━━━━━━━━━━━━━━━━━━━━━━━━━━━━━━━━━━━━━━━\u001b[0m \u001b[32m292.9/292.9 kB\u001b[0m \u001b[31m25.7 MB/s\u001b[0m eta \u001b[36m0:00:00\u001b[0m\n",
            "\u001b[?25hGPU Avaliable :  True\n"
          ]
        }
      ],
      "source": [
        "# =============================== OCR =========================================\n",
        "# >>> install and imprts for important library\n",
        "! pip -q install easyocr torch torchvision pillow matplotlib pandas\n",
        "import os , io , json , zipfile ,pathlib , shutil\n",
        "from typing import List , Tuple\n",
        "import numpy as np\n",
        "import pandas as pd\n",
        "from PIL import Image , ImageDraw ,ImageFont\n",
        "import matplotlib.pyplot as plt\n",
        "import easyocr\n",
        "\n",
        "# torch\n",
        "import torch\n",
        "print(\"GPU Avaliable : \", torch.cuda.is_available())"
      ]
    },
    {
      "cell_type": "code",
      "source": [
        "#======================= halper functions (OCR , Drow box , save)=========================\n",
        "def run_easyocr_on_image(reader, image_path : str,detail : bool = True , paragraph : bool = False):\n",
        "  result = reader.readtext(image_path, detail = detail, paragraph = paragraph)\n",
        "  return result\n",
        "\n",
        "\n",
        "  def annotate_and_save (image_path :str , detections : List[Tuple], out_path : str):\n",
        "\n",
        "     im = image.open(image_path).convert(\"RGB\")\n",
        "     draw = ImageDraw.Draw(im)\n",
        "     for bbox , text, conf in detections :\n",
        "      poly  = [(int(x), int(y)) for x,y in bbox]\n",
        "      draw.polygon(poly , outline = (0,255,0), width = 2)\n",
        "\n",
        "\n",
        "      x0,y0 = poly[0]\n",
        "      draw.rectangle([x0,y0 - 18 , x0 + 8*len(text)+8 , y0], fill = (0,0,0))\n",
        "      draw.text((x0+4,y0-16), f'{text}', fill = (255,255,255))\n",
        "      im.save(out_path)\n",
        "\n",
        "\n",
        "\n",
        "\n",
        "\n",
        "      def detections_to_records(image_name : str, detections : List[Tuple]):\n",
        "\n",
        "        rows = []\n",
        "        for bbox , text, conf in detections :\n",
        "          flat_bbox = [ float(v) for pt in bbox for v in pt]\n",
        "          raws.append({\n",
        "\n",
        "               \"image\" : image_name ,\n",
        "               \"text\" : text,\n",
        "               'confidance' : float(conf),\n",
        "               'x1' : flat_bbox[0], 'y1' : flat_bbox[1],\n",
        "               \"x2\": flat_bbox[2],  \"y2\": flat_bbox[3],\n",
        "               \"x3\": flat_bbox[4],  \"y3\": flat_bbox[5],\n",
        "               \"x4\": flat_bbox[6],  \"y4\": flat_bbox[7],\n",
        "\n",
        "\n",
        "          })\n",
        "\n",
        "     return rows"
      ],
      "metadata": {
        "id": "cwZ9C_09mK8h"
      },
      "execution_count": 2,
      "outputs": []
    },
    {
      "cell_type": "markdown",
      "source": [
        "Upload image code"
      ],
      "metadata": {
        "id": "Odophscy_GOu"
      }
    },
    {
      "cell_type": "code",
      "source": [
        "from google.colab import files\n",
        "\n",
        "print(\"Upload one or more images (JPG/PNG)...\")\n",
        "uploaded = files.upload()\n",
        "input_dir = pathlib.Path(\"input_images\"); input_dir.mkdir(exist_ok=True)\n",
        "for name, data in uploaded.items():\n",
        "    (input_dir / name).write_bytes(data)\n",
        "len(list(input_dir.iterdir()))"
      ],
      "metadata": {
        "colab": {
          "base_uri": "https://localhost:8080/",
          "height": 108
        },
        "id": "O2yn9RPV3QZl",
        "outputId": "97333ed4-c65f-487d-b4d0-325b061885d3"
      },
      "execution_count": 3,
      "outputs": [
        {
          "output_type": "stream",
          "name": "stdout",
          "text": [
            "Upload one or more images (JPG/PNG)...\n"
          ]
        },
        {
          "output_type": "display_data",
          "data": {
            "text/plain": [
              "<IPython.core.display.HTML object>"
            ],
            "text/html": [
              "\n",
              "     <input type=\"file\" id=\"files-e498f699-0a37-47e9-b766-386143fd06f1\" name=\"files[]\" multiple disabled\n",
              "        style=\"border:none\" />\n",
              "     <output id=\"result-e498f699-0a37-47e9-b766-386143fd06f1\">\n",
              "      Upload widget is only available when the cell has been executed in the\n",
              "      current browser session. Please rerun this cell to enable.\n",
              "      </output>\n",
              "      <script>// Copyright 2017 Google LLC\n",
              "//\n",
              "// Licensed under the Apache License, Version 2.0 (the \"License\");\n",
              "// you may not use this file except in compliance with the License.\n",
              "// You may obtain a copy of the License at\n",
              "//\n",
              "//      http://www.apache.org/licenses/LICENSE-2.0\n",
              "//\n",
              "// Unless required by applicable law or agreed to in writing, software\n",
              "// distributed under the License is distributed on an \"AS IS\" BASIS,\n",
              "// WITHOUT WARRANTIES OR CONDITIONS OF ANY KIND, either express or implied.\n",
              "// See the License for the specific language governing permissions and\n",
              "// limitations under the License.\n",
              "\n",
              "/**\n",
              " * @fileoverview Helpers for google.colab Python module.\n",
              " */\n",
              "(function(scope) {\n",
              "function span(text, styleAttributes = {}) {\n",
              "  const element = document.createElement('span');\n",
              "  element.textContent = text;\n",
              "  for (const key of Object.keys(styleAttributes)) {\n",
              "    element.style[key] = styleAttributes[key];\n",
              "  }\n",
              "  return element;\n",
              "}\n",
              "\n",
              "// Max number of bytes which will be uploaded at a time.\n",
              "const MAX_PAYLOAD_SIZE = 100 * 1024;\n",
              "\n",
              "function _uploadFiles(inputId, outputId) {\n",
              "  const steps = uploadFilesStep(inputId, outputId);\n",
              "  const outputElement = document.getElementById(outputId);\n",
              "  // Cache steps on the outputElement to make it available for the next call\n",
              "  // to uploadFilesContinue from Python.\n",
              "  outputElement.steps = steps;\n",
              "\n",
              "  return _uploadFilesContinue(outputId);\n",
              "}\n",
              "\n",
              "// This is roughly an async generator (not supported in the browser yet),\n",
              "// where there are multiple asynchronous steps and the Python side is going\n",
              "// to poll for completion of each step.\n",
              "// This uses a Promise to block the python side on completion of each step,\n",
              "// then passes the result of the previous step as the input to the next step.\n",
              "function _uploadFilesContinue(outputId) {\n",
              "  const outputElement = document.getElementById(outputId);\n",
              "  const steps = outputElement.steps;\n",
              "\n",
              "  const next = steps.next(outputElement.lastPromiseValue);\n",
              "  return Promise.resolve(next.value.promise).then((value) => {\n",
              "    // Cache the last promise value to make it available to the next\n",
              "    // step of the generator.\n",
              "    outputElement.lastPromiseValue = value;\n",
              "    return next.value.response;\n",
              "  });\n",
              "}\n",
              "\n",
              "/**\n",
              " * Generator function which is called between each async step of the upload\n",
              " * process.\n",
              " * @param {string} inputId Element ID of the input file picker element.\n",
              " * @param {string} outputId Element ID of the output display.\n",
              " * @return {!Iterable<!Object>} Iterable of next steps.\n",
              " */\n",
              "function* uploadFilesStep(inputId, outputId) {\n",
              "  const inputElement = document.getElementById(inputId);\n",
              "  inputElement.disabled = false;\n",
              "\n",
              "  const outputElement = document.getElementById(outputId);\n",
              "  outputElement.innerHTML = '';\n",
              "\n",
              "  const pickedPromise = new Promise((resolve) => {\n",
              "    inputElement.addEventListener('change', (e) => {\n",
              "      resolve(e.target.files);\n",
              "    });\n",
              "  });\n",
              "\n",
              "  const cancel = document.createElement('button');\n",
              "  inputElement.parentElement.appendChild(cancel);\n",
              "  cancel.textContent = 'Cancel upload';\n",
              "  const cancelPromise = new Promise((resolve) => {\n",
              "    cancel.onclick = () => {\n",
              "      resolve(null);\n",
              "    };\n",
              "  });\n",
              "\n",
              "  // Wait for the user to pick the files.\n",
              "  const files = yield {\n",
              "    promise: Promise.race([pickedPromise, cancelPromise]),\n",
              "    response: {\n",
              "      action: 'starting',\n",
              "    }\n",
              "  };\n",
              "\n",
              "  cancel.remove();\n",
              "\n",
              "  // Disable the input element since further picks are not allowed.\n",
              "  inputElement.disabled = true;\n",
              "\n",
              "  if (!files) {\n",
              "    return {\n",
              "      response: {\n",
              "        action: 'complete',\n",
              "      }\n",
              "    };\n",
              "  }\n",
              "\n",
              "  for (const file of files) {\n",
              "    const li = document.createElement('li');\n",
              "    li.append(span(file.name, {fontWeight: 'bold'}));\n",
              "    li.append(span(\n",
              "        `(${file.type || 'n/a'}) - ${file.size} bytes, ` +\n",
              "        `last modified: ${\n",
              "            file.lastModifiedDate ? file.lastModifiedDate.toLocaleDateString() :\n",
              "                                    'n/a'} - `));\n",
              "    const percent = span('0% done');\n",
              "    li.appendChild(percent);\n",
              "\n",
              "    outputElement.appendChild(li);\n",
              "\n",
              "    const fileDataPromise = new Promise((resolve) => {\n",
              "      const reader = new FileReader();\n",
              "      reader.onload = (e) => {\n",
              "        resolve(e.target.result);\n",
              "      };\n",
              "      reader.readAsArrayBuffer(file);\n",
              "    });\n",
              "    // Wait for the data to be ready.\n",
              "    let fileData = yield {\n",
              "      promise: fileDataPromise,\n",
              "      response: {\n",
              "        action: 'continue',\n",
              "      }\n",
              "    };\n",
              "\n",
              "    // Use a chunked sending to avoid message size limits. See b/62115660.\n",
              "    let position = 0;\n",
              "    do {\n",
              "      const length = Math.min(fileData.byteLength - position, MAX_PAYLOAD_SIZE);\n",
              "      const chunk = new Uint8Array(fileData, position, length);\n",
              "      position += length;\n",
              "\n",
              "      const base64 = btoa(String.fromCharCode.apply(null, chunk));\n",
              "      yield {\n",
              "        response: {\n",
              "          action: 'append',\n",
              "          file: file.name,\n",
              "          data: base64,\n",
              "        },\n",
              "      };\n",
              "\n",
              "      let percentDone = fileData.byteLength === 0 ?\n",
              "          100 :\n",
              "          Math.round((position / fileData.byteLength) * 100);\n",
              "      percent.textContent = `${percentDone}% done`;\n",
              "\n",
              "    } while (position < fileData.byteLength);\n",
              "  }\n",
              "\n",
              "  // All done.\n",
              "  yield {\n",
              "    response: {\n",
              "      action: 'complete',\n",
              "    }\n",
              "  };\n",
              "}\n",
              "\n",
              "scope.google = scope.google || {};\n",
              "scope.google.colab = scope.google.colab || {};\n",
              "scope.google.colab._files = {\n",
              "  _uploadFiles,\n",
              "  _uploadFilesContinue,\n",
              "};\n",
              "})(self);\n",
              "</script> "
            ]
          },
          "metadata": {}
        },
        {
          "output_type": "stream",
          "name": "stdout",
          "text": [
            "Saving download.png to download.png\n"
          ]
        },
        {
          "output_type": "execute_result",
          "data": {
            "text/plain": [
              "1"
            ]
          },
          "metadata": {},
          "execution_count": 3
        }
      ]
    },
    {
      "cell_type": "code",
      "source": [
        "#========== create the ocr reader\n",
        "langs = ['en', 'ar']\n",
        "\n",
        "# GPU if avalable\n",
        "use_gpu = torch_cuda.is_avalable()\n",
        "\n",
        "reader = easyocr.Reader(langs, gpu=use_gpu)"
      ],
      "metadata": {
        "colab": {
          "base_uri": "https://localhost:8080/",
          "height": 211
        },
        "id": "KFbmKJT63Psy",
        "outputId": "4e64364e-eee5-4a3a-d4ad-7e04302ad763"
      },
      "execution_count": 4,
      "outputs": [
        {
          "output_type": "error",
          "ename": "NameError",
          "evalue": "name 'torch_cuda' is not defined",
          "traceback": [
            "\u001b[0;31m---------------------------------------------------------------------------\u001b[0m",
            "\u001b[0;31mNameError\u001b[0m                                 Traceback (most recent call last)",
            "\u001b[0;32m/tmp/ipython-input-857845175.py\u001b[0m in \u001b[0;36m<cell line: 0>\u001b[0;34m()\u001b[0m\n\u001b[1;32m      3\u001b[0m \u001b[0;34m\u001b[0m\u001b[0m\n\u001b[1;32m      4\u001b[0m \u001b[0;31m# GPU if avalable\u001b[0m\u001b[0;34m\u001b[0m\u001b[0;34m\u001b[0m\u001b[0m\n\u001b[0;32m----> 5\u001b[0;31m \u001b[0muse_gpu\u001b[0m \u001b[0;34m=\u001b[0m \u001b[0mtorch_cuda\u001b[0m\u001b[0;34m.\u001b[0m\u001b[0mis_avalable\u001b[0m\u001b[0;34m(\u001b[0m\u001b[0;34m)\u001b[0m\u001b[0;34m\u001b[0m\u001b[0;34m\u001b[0m\u001b[0m\n\u001b[0m\u001b[1;32m      6\u001b[0m \u001b[0;34m\u001b[0m\u001b[0m\n\u001b[1;32m      7\u001b[0m \u001b[0mreader\u001b[0m \u001b[0;34m=\u001b[0m \u001b[0measyocr\u001b[0m\u001b[0;34m.\u001b[0m\u001b[0mReader\u001b[0m\u001b[0;34m(\u001b[0m\u001b[0mlangs\u001b[0m\u001b[0;34m,\u001b[0m \u001b[0mgpu\u001b[0m\u001b[0;34m=\u001b[0m\u001b[0muse_gpu\u001b[0m\u001b[0;34m)\u001b[0m\u001b[0;34m\u001b[0m\u001b[0;34m\u001b[0m\u001b[0m\n",
            "\u001b[0;31mNameError\u001b[0m: name 'torch_cuda' is not defined"
          ]
        }
      ]
    },
    {
      "cell_type": "markdown",
      "source": [],
      "metadata": {
        "id": "4GKAALQjfNfX"
      }
    },
    {
      "cell_type": "markdown",
      "metadata": {
        "id": "8aa23761"
      },
      "source": [
        "# Task\n",
        "Explain the error in the provided Python code for OCR, fix it if possible, and incorporate the changes. If not, diagnose the error. The code uses EasyOCR to detect text in an image."
      ]
    },
    {
      "cell_type": "markdown",
      "metadata": {
        "id": "83e57ccd"
      },
      "source": [
        "## Create ocr reader\n",
        "\n",
        "### Subtask:\n",
        "Initialize the EasyOCR reader with the specified languages and GPU availability.\n"
      ]
    },
    {
      "cell_type": "markdown",
      "metadata": {
        "id": "ed9067e3"
      },
      "source": [
        "**Reasoning**:\n",
        "Correct the variable name and initialize the EasyOCR reader.\n",
        "\n"
      ]
    },
    {
      "cell_type": "code",
      "metadata": {
        "colab": {
          "base_uri": "https://localhost:8080/"
        },
        "id": "8b1b2673",
        "outputId": "06a9c8f9-0ec4-4cbe-b46c-21876e6d7e58"
      },
      "source": [
        "#========== create the ocr reader\n",
        "langs = ['en', 'ar']\n",
        "\n",
        "# GPU if avalable\n",
        "use_gpu = torch.cuda.is_available()\n",
        "\n",
        "reader = easyocr.Reader(langs, gpu=use_gpu)"
      ],
      "execution_count": 5,
      "outputs": [
        {
          "output_type": "stream",
          "name": "stderr",
          "text": [
            "WARNING:easyocr.easyocr:Downloading detection model, please wait. This may take several minutes depending upon your network connection.\n"
          ]
        },
        {
          "output_type": "stream",
          "name": "stdout",
          "text": [
            "Progress: |██████████████████████████████████████████████████| 100.0% Complete"
          ]
        },
        {
          "output_type": "stream",
          "name": "stderr",
          "text": [
            "WARNING:easyocr.easyocr:Downloading recognition model, please wait. This may take several minutes depending upon your network connection.\n"
          ]
        },
        {
          "output_type": "stream",
          "name": "stdout",
          "text": [
            "Progress: |██████████████████████████████████████████████████| 100.0% Complete"
          ]
        }
      ]
    },
    {
      "cell_type": "markdown",
      "metadata": {
        "id": "123f17c4"
      },
      "source": [
        "## Run ocr on image\n",
        "\n",
        "### Subtask:\n",
        "Apply the OCR reader to the uploaded image to detect text.\n"
      ]
    },
    {
      "cell_type": "markdown",
      "metadata": {
        "id": "c3d9b356"
      },
      "source": [
        "**Reasoning**:\n",
        "Get the image path from the input directory and apply the OCR reader to the image using the helper function.\n",
        "\n"
      ]
    },
    {
      "cell_type": "code",
      "metadata": {
        "colab": {
          "base_uri": "https://localhost:8080/"
        },
        "id": "b2ed2fb0",
        "outputId": "8a28074f-d7d8-4efe-8fca-8578b65ba23d"
      },
      "source": [
        "# Get the path of the uploaded image\n",
        "image_path = list(input_dir.iterdir())[0]\n",
        "\n",
        "# Run OCR on the image\n",
        "detections = run_easyocr_on_image(reader, str(image_path))\n",
        "\n",
        "# Display the detections\n",
        "print(detections)"
      ],
      "execution_count": 6,
      "outputs": [
        {
          "output_type": "stream",
          "name": "stdout",
          "text": [
            "[[[[np.int32(86), np.int32(92)], [np.int32(152), np.int32(92)], [np.int32(152), np.int32(122)], [np.int32(86), np.int32(122)]], 'نننقراء', np.float64(0.9870698121531852)], [[[np.int32(87), np.int32(119)], [np.int32(228), np.int32(119)], [np.int32(228), np.int32(143)], [np.int32(87), np.int32(143)]], 'Shaqra University', np.float64(0.8758493586816011)], [[[np.float64(150.07899166023174), np.float64(89.14487414671835)], [np.float64(229.94030181926342), np.float64(98.40449583407323)], [np.float64(225.92100833976826), np.float64(125.85512585328165)], [np.float64(145.05969818073658), np.float64(115.59550416592677)]], 'جامع', np.float64(0.8805602886793367)]]\n"
          ]
        }
      ]
    },
    {
      "cell_type": "markdown",
      "metadata": {
        "id": "6003558f"
      },
      "source": [
        "## Annotate and save image\n",
        "\n",
        "### Subtask:\n",
        "Draw bounding boxes around the detected text and save the annotated image.\n"
      ]
    },
    {
      "cell_type": "markdown",
      "metadata": {
        "id": "c9006c6d"
      },
      "source": [
        "**Reasoning**:\n",
        "Define the output directory, construct the output path, and call the annotate_and_save function to draw bounding boxes and save the image.\n",
        "\n"
      ]
    },
    {
      "cell_type": "code",
      "metadata": {
        "colab": {
          "base_uri": "https://localhost:8080/",
          "height": 211
        },
        "id": "c48cd885",
        "outputId": "fe2e8e4b-36fe-4e0d-d858-972c1cbd8845"
      },
      "source": [
        "# Define the output directory\n",
        "output_dir = pathlib.Path(\"output_images\")\n",
        "output_dir.mkdir(exist_ok=True)\n",
        "\n",
        "# Construct the output path\n",
        "output_path = output_dir / image_path.name\n",
        "\n",
        "# Call the annotate_and_save function\n",
        "annotate_and_save(str(image_path), detections, str(output_path))\n",
        "\n",
        "print(f\"Annotated image saved to: {output_path}\")"
      ],
      "execution_count": 7,
      "outputs": [
        {
          "output_type": "error",
          "ename": "NameError",
          "evalue": "name 'annotate_and_save' is not defined",
          "traceback": [
            "\u001b[0;31m---------------------------------------------------------------------------\u001b[0m",
            "\u001b[0;31mNameError\u001b[0m                                 Traceback (most recent call last)",
            "\u001b[0;32m/tmp/ipython-input-4273369340.py\u001b[0m in \u001b[0;36m<cell line: 0>\u001b[0;34m()\u001b[0m\n\u001b[1;32m      7\u001b[0m \u001b[0;34m\u001b[0m\u001b[0m\n\u001b[1;32m      8\u001b[0m \u001b[0;31m# Call the annotate_and_save function\u001b[0m\u001b[0;34m\u001b[0m\u001b[0;34m\u001b[0m\u001b[0m\n\u001b[0;32m----> 9\u001b[0;31m \u001b[0mannotate_and_save\u001b[0m\u001b[0;34m(\u001b[0m\u001b[0mstr\u001b[0m\u001b[0;34m(\u001b[0m\u001b[0mimage_path\u001b[0m\u001b[0;34m)\u001b[0m\u001b[0;34m,\u001b[0m \u001b[0mdetections\u001b[0m\u001b[0;34m,\u001b[0m \u001b[0mstr\u001b[0m\u001b[0;34m(\u001b[0m\u001b[0moutput_path\u001b[0m\u001b[0;34m)\u001b[0m\u001b[0;34m)\u001b[0m\u001b[0;34m\u001b[0m\u001b[0;34m\u001b[0m\u001b[0m\n\u001b[0m\u001b[1;32m     10\u001b[0m \u001b[0;34m\u001b[0m\u001b[0m\n\u001b[1;32m     11\u001b[0m \u001b[0mprint\u001b[0m\u001b[0;34m(\u001b[0m\u001b[0;34mf\"Annotated image saved to: {output_path}\"\u001b[0m\u001b[0;34m)\u001b[0m\u001b[0;34m\u001b[0m\u001b[0;34m\u001b[0m\u001b[0m\n",
            "\u001b[0;31mNameError\u001b[0m: name 'annotate_and_save' is not defined"
          ]
        }
      ]
    },
    {
      "cell_type": "markdown",
      "metadata": {
        "id": "ca20c9f9"
      },
      "source": [
        "**Reasoning**:\n",
        "The error indicates that the `annotate_and_save` function is not defined. This is likely due to an issue in the previous code cell where helper functions were defined. The helper functions need to be re-defined correctly.\n",
        "\n"
      ]
    },
    {
      "cell_type": "code",
      "metadata": {
        "colab": {
          "base_uri": "https://localhost:8080/"
        },
        "id": "C6JwlARICEhG",
        "outputId": "50d676f9-e7a4-47e6-e44b-49b014b5970f"
      },
      "source": [
        "#======================= halper functions (OCR , Drow box , save)=========================\n",
        "def run_easyocr_on_image(reader, image_path : str,detail : bool = True , paragraph : bool = False):\n",
        "  result = reader.readtext(image_path, detail = detail, paragraph = paragraph)\n",
        "  return result\n",
        "\n",
        "def annotate_and_save (image_path :str , detections : List[Tuple], out_path : str):\n",
        "   im = Image.open(image_path).convert(\"RGB\")\n",
        "   draw = ImageDraw.Draw(im)\n",
        "   for bbox , text, conf in detections :\n",
        "    poly  = [(int(x), int(y)) for x,y in bbox]\n",
        "    draw.polygon(poly , outline = (0,255,0), width = 2)\n",
        "\n",
        "    x0,y0 = poly[0]\n",
        "    draw.rectangle([x0,y0 - 18 , x0 + 8*len(text)+8 , y0], fill = (0,0,0))\n",
        "    draw.text((x0+4,y0-16), f'{text}', fill = (255,255,255))\n",
        "    im.save(out_path)\n",
        "\n",
        "def detections_to_records(image_name : str, detections : List[Tuple]):\n",
        "  rows = []\n",
        "  for bbox , text, conf in detections :\n",
        "    flat_bbox = [ float(v) for pt in bbox for v in pt]\n",
        "    rows.append({\n",
        "         \"image\" : image_name ,\n",
        "         \"text\" : text,\n",
        "         'confidance' : float(conf),\n",
        "         'x1' : flat_bbox[0], 'y1' : flat_bbox[1],\n",
        "         \"x2\": flat_bbox[2],  \"y2\": flat_bbox[3],\n",
        "         \"x3\": flat_bbox[4],  \"y3\": flat_bbox[5],\n",
        "         \"x4\": flat_bbox[6],  \"y4\": flat_bbox[7],\n",
        "    })\n",
        "  return rows\n",
        "\n",
        "# Define the output directory\n",
        "output_dir = pathlib.Path(\"output_images\")\n",
        "output_dir.mkdir(exist_ok=True)\n",
        "\n",
        "# Construct the output path\n",
        "image_path = list(input_dir.iterdir())[0] # Ensure image_path is defined\n",
        "output_path = output_dir / image_path.name\n",
        "\n",
        "# Call the annotate_and_save function\n",
        "annotate_and_save(str(image_path), detections, str(output_path))\n",
        "\n",
        "print(f\"Annotated image saved to: {output_path}\")"
      ],
      "execution_count": 8,
      "outputs": [
        {
          "output_type": "stream",
          "name": "stdout",
          "text": [
            "Annotated image saved to: output_images/download.png\n"
          ]
        }
      ]
    },
    {
      "cell_type": "markdown",
      "metadata": {
        "id": "1a9c1922"
      },
      "source": [
        "## Convert detections to records\n",
        "\n",
        "### Subtask:\n",
        "Convert the OCR results into a structured format (e.g., a list of dictionaries or a DataFrame).\n"
      ]
    },
    {
      "cell_type": "markdown",
      "metadata": {
        "id": "e598ccb6"
      },
      "source": [
        "**Reasoning**:\n",
        "Convert the OCR detections into a structured format using the provided helper function and then display the resulting DataFrame.\n",
        "\n"
      ]
    },
    {
      "cell_type": "code",
      "metadata": {
        "colab": {
          "base_uri": "https://localhost:8080/",
          "height": 180
        },
        "id": "aca73f18",
        "outputId": "379ffe6d-246a-4e2a-a422-e9b67c8bcc1e"
      },
      "source": [
        "# Convert detections to records\n",
        "image_name = image_path.name\n",
        "records = detections_to_records(image_name, detections)\n",
        "\n",
        "# Convert records to DataFrame\n",
        "df_detections = pd.DataFrame(records)\n",
        "\n",
        "# Display the DataFrame\n",
        "display(df_detections)"
      ],
      "execution_count": 9,
      "outputs": [
        {
          "output_type": "display_data",
          "data": {
            "text/plain": [
              "          image               text  confidance          x1          y1  \\\n",
              "0  download.png            نننقراء    0.987070   86.000000   92.000000   \n",
              "1  download.png  Shaqra University    0.875849   87.000000  119.000000   \n",
              "2  download.png               جامع    0.880560  150.078992   89.144874   \n",
              "\n",
              "           x2          y2          x3          y3          x4          y4  \n",
              "0  152.000000   92.000000  152.000000  122.000000   86.000000  122.000000  \n",
              "1  228.000000  119.000000  228.000000  143.000000   87.000000  143.000000  \n",
              "2  229.940302   98.404496  225.921008  125.855126  145.059698  115.595504  "
            ],
            "text/html": [
              "\n",
              "  <div id=\"df-581dcf4d-41c8-436c-8995-a14e9908bfdc\" class=\"colab-df-container\">\n",
              "    <div>\n",
              "<style scoped>\n",
              "    .dataframe tbody tr th:only-of-type {\n",
              "        vertical-align: middle;\n",
              "    }\n",
              "\n",
              "    .dataframe tbody tr th {\n",
              "        vertical-align: top;\n",
              "    }\n",
              "\n",
              "    .dataframe thead th {\n",
              "        text-align: right;\n",
              "    }\n",
              "</style>\n",
              "<table border=\"1\" class=\"dataframe\">\n",
              "  <thead>\n",
              "    <tr style=\"text-align: right;\">\n",
              "      <th></th>\n",
              "      <th>image</th>\n",
              "      <th>text</th>\n",
              "      <th>confidance</th>\n",
              "      <th>x1</th>\n",
              "      <th>y1</th>\n",
              "      <th>x2</th>\n",
              "      <th>y2</th>\n",
              "      <th>x3</th>\n",
              "      <th>y3</th>\n",
              "      <th>x4</th>\n",
              "      <th>y4</th>\n",
              "    </tr>\n",
              "  </thead>\n",
              "  <tbody>\n",
              "    <tr>\n",
              "      <th>0</th>\n",
              "      <td>download.png</td>\n",
              "      <td>نننقراء</td>\n",
              "      <td>0.987070</td>\n",
              "      <td>86.000000</td>\n",
              "      <td>92.000000</td>\n",
              "      <td>152.000000</td>\n",
              "      <td>92.000000</td>\n",
              "      <td>152.000000</td>\n",
              "      <td>122.000000</td>\n",
              "      <td>86.000000</td>\n",
              "      <td>122.000000</td>\n",
              "    </tr>\n",
              "    <tr>\n",
              "      <th>1</th>\n",
              "      <td>download.png</td>\n",
              "      <td>Shaqra University</td>\n",
              "      <td>0.875849</td>\n",
              "      <td>87.000000</td>\n",
              "      <td>119.000000</td>\n",
              "      <td>228.000000</td>\n",
              "      <td>119.000000</td>\n",
              "      <td>228.000000</td>\n",
              "      <td>143.000000</td>\n",
              "      <td>87.000000</td>\n",
              "      <td>143.000000</td>\n",
              "    </tr>\n",
              "    <tr>\n",
              "      <th>2</th>\n",
              "      <td>download.png</td>\n",
              "      <td>جامع</td>\n",
              "      <td>0.880560</td>\n",
              "      <td>150.078992</td>\n",
              "      <td>89.144874</td>\n",
              "      <td>229.940302</td>\n",
              "      <td>98.404496</td>\n",
              "      <td>225.921008</td>\n",
              "      <td>125.855126</td>\n",
              "      <td>145.059698</td>\n",
              "      <td>115.595504</td>\n",
              "    </tr>\n",
              "  </tbody>\n",
              "</table>\n",
              "</div>\n",
              "    <div class=\"colab-df-buttons\">\n",
              "\n",
              "  <div class=\"colab-df-container\">\n",
              "    <button class=\"colab-df-convert\" onclick=\"convertToInteractive('df-581dcf4d-41c8-436c-8995-a14e9908bfdc')\"\n",
              "            title=\"Convert this dataframe to an interactive table.\"\n",
              "            style=\"display:none;\">\n",
              "\n",
              "  <svg xmlns=\"http://www.w3.org/2000/svg\" height=\"24px\" viewBox=\"0 -960 960 960\">\n",
              "    <path d=\"M120-120v-720h720v720H120Zm60-500h600v-160H180v160Zm220 220h160v-160H400v160Zm0 220h160v-160H400v160ZM180-400h160v-160H180v160Zm440 0h160v-160H620v160ZM180-180h160v-160H180v160Zm440 0h160v-160H620v160Z\"/>\n",
              "  </svg>\n",
              "    </button>\n",
              "\n",
              "  <style>\n",
              "    .colab-df-container {\n",
              "      display:flex;\n",
              "      gap: 12px;\n",
              "    }\n",
              "\n",
              "    .colab-df-convert {\n",
              "      background-color: #E8F0FE;\n",
              "      border: none;\n",
              "      border-radius: 50%;\n",
              "      cursor: pointer;\n",
              "      display: none;\n",
              "      fill: #1967D2;\n",
              "      height: 32px;\n",
              "      padding: 0 0 0 0;\n",
              "      width: 32px;\n",
              "    }\n",
              "\n",
              "    .colab-df-convert:hover {\n",
              "      background-color: #E2EBFA;\n",
              "      box-shadow: 0px 1px 2px rgba(60, 64, 67, 0.3), 0px 1px 3px 1px rgba(60, 64, 67, 0.15);\n",
              "      fill: #174EA6;\n",
              "    }\n",
              "\n",
              "    .colab-df-buttons div {\n",
              "      margin-bottom: 4px;\n",
              "    }\n",
              "\n",
              "    [theme=dark] .colab-df-convert {\n",
              "      background-color: #3B4455;\n",
              "      fill: #D2E3FC;\n",
              "    }\n",
              "\n",
              "    [theme=dark] .colab-df-convert:hover {\n",
              "      background-color: #434B5C;\n",
              "      box-shadow: 0px 1px 3px 1px rgba(0, 0, 0, 0.15);\n",
              "      filter: drop-shadow(0px 1px 2px rgba(0, 0, 0, 0.3));\n",
              "      fill: #FFFFFF;\n",
              "    }\n",
              "  </style>\n",
              "\n",
              "    <script>\n",
              "      const buttonEl =\n",
              "        document.querySelector('#df-581dcf4d-41c8-436c-8995-a14e9908bfdc button.colab-df-convert');\n",
              "      buttonEl.style.display =\n",
              "        google.colab.kernel.accessAllowed ? 'block' : 'none';\n",
              "\n",
              "      async function convertToInteractive(key) {\n",
              "        const element = document.querySelector('#df-581dcf4d-41c8-436c-8995-a14e9908bfdc');\n",
              "        const dataTable =\n",
              "          await google.colab.kernel.invokeFunction('convertToInteractive',\n",
              "                                                    [key], {});\n",
              "        if (!dataTable) return;\n",
              "\n",
              "        const docLinkHtml = 'Like what you see? Visit the ' +\n",
              "          '<a target=\"_blank\" href=https://colab.research.google.com/notebooks/data_table.ipynb>data table notebook</a>'\n",
              "          + ' to learn more about interactive tables.';\n",
              "        element.innerHTML = '';\n",
              "        dataTable['output_type'] = 'display_data';\n",
              "        await google.colab.output.renderOutput(dataTable, element);\n",
              "        const docLink = document.createElement('div');\n",
              "        docLink.innerHTML = docLinkHtml;\n",
              "        element.appendChild(docLink);\n",
              "      }\n",
              "    </script>\n",
              "  </div>\n",
              "\n",
              "\n",
              "    <div id=\"df-e32f876b-b3be-4786-94e8-cb0eab9e52ed\">\n",
              "      <button class=\"colab-df-quickchart\" onclick=\"quickchart('df-e32f876b-b3be-4786-94e8-cb0eab9e52ed')\"\n",
              "                title=\"Suggest charts\"\n",
              "                style=\"display:none;\">\n",
              "\n",
              "<svg xmlns=\"http://www.w3.org/2000/svg\" height=\"24px\"viewBox=\"0 0 24 24\"\n",
              "     width=\"24px\">\n",
              "    <g>\n",
              "        <path d=\"M19 3H5c-1.1 0-2 .9-2 2v14c0 1.1.9 2 2 2h14c1.1 0 2-.9 2-2V5c0-1.1-.9-2-2-2zM9 17H7v-7h2v7zm4 0h-2V7h2v10zm4 0h-2v-4h2v4z\"/>\n",
              "    </g>\n",
              "</svg>\n",
              "      </button>\n",
              "\n",
              "<style>\n",
              "  .colab-df-quickchart {\n",
              "      --bg-color: #E8F0FE;\n",
              "      --fill-color: #1967D2;\n",
              "      --hover-bg-color: #E2EBFA;\n",
              "      --hover-fill-color: #174EA6;\n",
              "      --disabled-fill-color: #AAA;\n",
              "      --disabled-bg-color: #DDD;\n",
              "  }\n",
              "\n",
              "  [theme=dark] .colab-df-quickchart {\n",
              "      --bg-color: #3B4455;\n",
              "      --fill-color: #D2E3FC;\n",
              "      --hover-bg-color: #434B5C;\n",
              "      --hover-fill-color: #FFFFFF;\n",
              "      --disabled-bg-color: #3B4455;\n",
              "      --disabled-fill-color: #666;\n",
              "  }\n",
              "\n",
              "  .colab-df-quickchart {\n",
              "    background-color: var(--bg-color);\n",
              "    border: none;\n",
              "    border-radius: 50%;\n",
              "    cursor: pointer;\n",
              "    display: none;\n",
              "    fill: var(--fill-color);\n",
              "    height: 32px;\n",
              "    padding: 0;\n",
              "    width: 32px;\n",
              "  }\n",
              "\n",
              "  .colab-df-quickchart:hover {\n",
              "    background-color: var(--hover-bg-color);\n",
              "    box-shadow: 0 1px 2px rgba(60, 64, 67, 0.3), 0 1px 3px 1px rgba(60, 64, 67, 0.15);\n",
              "    fill: var(--button-hover-fill-color);\n",
              "  }\n",
              "\n",
              "  .colab-df-quickchart-complete:disabled,\n",
              "  .colab-df-quickchart-complete:disabled:hover {\n",
              "    background-color: var(--disabled-bg-color);\n",
              "    fill: var(--disabled-fill-color);\n",
              "    box-shadow: none;\n",
              "  }\n",
              "\n",
              "  .colab-df-spinner {\n",
              "    border: 2px solid var(--fill-color);\n",
              "    border-color: transparent;\n",
              "    border-bottom-color: var(--fill-color);\n",
              "    animation:\n",
              "      spin 1s steps(1) infinite;\n",
              "  }\n",
              "\n",
              "  @keyframes spin {\n",
              "    0% {\n",
              "      border-color: transparent;\n",
              "      border-bottom-color: var(--fill-color);\n",
              "      border-left-color: var(--fill-color);\n",
              "    }\n",
              "    20% {\n",
              "      border-color: transparent;\n",
              "      border-left-color: var(--fill-color);\n",
              "      border-top-color: var(--fill-color);\n",
              "    }\n",
              "    30% {\n",
              "      border-color: transparent;\n",
              "      border-left-color: var(--fill-color);\n",
              "      border-top-color: var(--fill-color);\n",
              "      border-right-color: var(--fill-color);\n",
              "    }\n",
              "    40% {\n",
              "      border-color: transparent;\n",
              "      border-right-color: var(--fill-color);\n",
              "      border-top-color: var(--fill-color);\n",
              "    }\n",
              "    60% {\n",
              "      border-color: transparent;\n",
              "      border-right-color: var(--fill-color);\n",
              "    }\n",
              "    80% {\n",
              "      border-color: transparent;\n",
              "      border-right-color: var(--fill-color);\n",
              "      border-bottom-color: var(--fill-color);\n",
              "    }\n",
              "    90% {\n",
              "      border-color: transparent;\n",
              "      border-bottom-color: var(--fill-color);\n",
              "    }\n",
              "  }\n",
              "</style>\n",
              "\n",
              "      <script>\n",
              "        async function quickchart(key) {\n",
              "          const quickchartButtonEl =\n",
              "            document.querySelector('#' + key + ' button');\n",
              "          quickchartButtonEl.disabled = true;  // To prevent multiple clicks.\n",
              "          quickchartButtonEl.classList.add('colab-df-spinner');\n",
              "          try {\n",
              "            const charts = await google.colab.kernel.invokeFunction(\n",
              "                'suggestCharts', [key], {});\n",
              "          } catch (error) {\n",
              "            console.error('Error during call to suggestCharts:', error);\n",
              "          }\n",
              "          quickchartButtonEl.classList.remove('colab-df-spinner');\n",
              "          quickchartButtonEl.classList.add('colab-df-quickchart-complete');\n",
              "        }\n",
              "        (() => {\n",
              "          let quickchartButtonEl =\n",
              "            document.querySelector('#df-e32f876b-b3be-4786-94e8-cb0eab9e52ed button');\n",
              "          quickchartButtonEl.style.display =\n",
              "            google.colab.kernel.accessAllowed ? 'block' : 'none';\n",
              "        })();\n",
              "      </script>\n",
              "    </div>\n",
              "\n",
              "  <div id=\"id_8793204f-da18-42c0-a82a-54265945596f\">\n",
              "    <style>\n",
              "      .colab-df-generate {\n",
              "        background-color: #E8F0FE;\n",
              "        border: none;\n",
              "        border-radius: 50%;\n",
              "        cursor: pointer;\n",
              "        display: none;\n",
              "        fill: #1967D2;\n",
              "        height: 32px;\n",
              "        padding: 0 0 0 0;\n",
              "        width: 32px;\n",
              "      }\n",
              "\n",
              "      .colab-df-generate:hover {\n",
              "        background-color: #E2EBFA;\n",
              "        box-shadow: 0px 1px 2px rgba(60, 64, 67, 0.3), 0px 1px 3px 1px rgba(60, 64, 67, 0.15);\n",
              "        fill: #174EA6;\n",
              "      }\n",
              "\n",
              "      [theme=dark] .colab-df-generate {\n",
              "        background-color: #3B4455;\n",
              "        fill: #D2E3FC;\n",
              "      }\n",
              "\n",
              "      [theme=dark] .colab-df-generate:hover {\n",
              "        background-color: #434B5C;\n",
              "        box-shadow: 0px 1px 3px 1px rgba(0, 0, 0, 0.15);\n",
              "        filter: drop-shadow(0px 1px 2px rgba(0, 0, 0, 0.3));\n",
              "        fill: #FFFFFF;\n",
              "      }\n",
              "    </style>\n",
              "    <button class=\"colab-df-generate\" onclick=\"generateWithVariable('df_detections')\"\n",
              "            title=\"Generate code using this dataframe.\"\n",
              "            style=\"display:none;\">\n",
              "\n",
              "  <svg xmlns=\"http://www.w3.org/2000/svg\" height=\"24px\"viewBox=\"0 0 24 24\"\n",
              "       width=\"24px\">\n",
              "    <path d=\"M7,19H8.4L18.45,9,17,7.55,7,17.6ZM5,21V16.75L18.45,3.32a2,2,0,0,1,2.83,0l1.4,1.43a1.91,1.91,0,0,1,.58,1.4,1.91,1.91,0,0,1-.58,1.4L9.25,21ZM18.45,9,17,7.55Zm-12,3A5.31,5.31,0,0,0,4.9,8.1,5.31,5.31,0,0,0,1,6.5,5.31,5.31,0,0,0,4.9,4.9,5.31,5.31,0,0,0,6.5,1,5.31,5.31,0,0,0,8.1,4.9,5.31,5.31,0,0,0,12,6.5,5.46,5.46,0,0,0,6.5,12Z\"/>\n",
              "  </svg>\n",
              "    </button>\n",
              "    <script>\n",
              "      (() => {\n",
              "      const buttonEl =\n",
              "        document.querySelector('#id_8793204f-da18-42c0-a82a-54265945596f button.colab-df-generate');\n",
              "      buttonEl.style.display =\n",
              "        google.colab.kernel.accessAllowed ? 'block' : 'none';\n",
              "\n",
              "      buttonEl.onclick = () => {\n",
              "        google.colab.notebook.generateWithVariable('df_detections');\n",
              "      }\n",
              "      })();\n",
              "    </script>\n",
              "  </div>\n",
              "\n",
              "    </div>\n",
              "  </div>\n"
            ],
            "application/vnd.google.colaboratory.intrinsic+json": {
              "type": "dataframe",
              "variable_name": "df_detections",
              "summary": "{\n  \"name\": \"df_detections\",\n  \"rows\": 3,\n  \"fields\": [\n    {\n      \"column\": \"image\",\n      \"properties\": {\n        \"dtype\": \"category\",\n        \"num_unique_values\": 1,\n        \"samples\": [\n          \"download.png\"\n        ],\n        \"semantic_type\": \"\",\n        \"description\": \"\"\n      }\n    },\n    {\n      \"column\": \"text\",\n      \"properties\": {\n        \"dtype\": \"string\",\n        \"num_unique_values\": 3,\n        \"samples\": [\n          \"\\u0646\\u0646\\u0646\\u0642\\u0631\\u0627\\u0621\"\n        ],\n        \"semantic_type\": \"\",\n        \"description\": \"\"\n      }\n    },\n    {\n      \"column\": \"confidance\",\n      \"properties\": {\n        \"dtype\": \"number\",\n        \"std\": 0.0628973511928956,\n        \"min\": 0.8758493586816011,\n        \"max\": 0.9870698121531852,\n        \"num_unique_values\": 3,\n        \"samples\": [\n          0.9870698121531852\n        ],\n        \"semantic_type\": \"\",\n        \"description\": \"\"\n      }\n    },\n    {\n      \"column\": \"x1\",\n      \"properties\": {\n        \"dtype\": \"number\",\n        \"std\": 36.71075310465049,\n        \"min\": 86.0,\n        \"max\": 150.07899166023174,\n        \"num_unique_values\": 3,\n        \"samples\": [\n          86.0\n        ],\n        \"semantic_type\": \"\",\n        \"description\": \"\"\n      }\n    },\n    {\n      \"column\": \"y1\",\n      \"properties\": {\n        \"dtype\": \"number\",\n        \"std\": 16.474628389098612,\n        \"min\": 89.14487414671835,\n        \"max\": 119.0,\n        \"num_unique_values\": 3,\n        \"samples\": [\n          92.0\n        ],\n        \"semantic_type\": \"\",\n        \"description\": \"\"\n      }\n    },\n    {\n      \"column\": \"x2\",\n      \"properties\": {\n        \"dtype\": \"number\",\n        \"std\": 44.44932586445625,\n        \"min\": 152.0,\n        \"max\": 229.94030181926342,\n        \"num_unique_values\": 3,\n        \"samples\": [\n          152.0\n        ],\n        \"semantic_type\": \"\",\n        \"description\": \"\"\n      }\n    },\n    {\n      \"column\": \"y2\",\n      \"properties\": {\n        \"dtype\": \"number\",\n        \"std\": 14.107872263015475,\n        \"min\": 92.0,\n        \"max\": 119.0,\n        \"num_unique_values\": 3,\n        \"samples\": [\n          92.0\n        ],\n        \"semantic_type\": \"\",\n        \"description\": \"\"\n      }\n    },\n    {\n      \"column\": \"x3\",\n      \"properties\": {\n        \"dtype\": \"number\",\n        \"std\": 43.29094917010445,\n        \"min\": 152.0,\n        \"max\": 228.0,\n        \"num_unique_values\": 3,\n        \"samples\": [\n          152.0\n        ],\n        \"semantic_type\": \"\",\n        \"description\": \"\"\n      }\n    },\n    {\n      \"column\": \"y3\",\n      \"properties\": {\n        \"dtype\": \"number\",\n        \"std\": 11.178913966716175,\n        \"min\": 122.0,\n        \"max\": 143.0,\n        \"num_unique_values\": 3,\n        \"samples\": [\n          122.0\n        ],\n        \"semantic_type\": \"\",\n        \"description\": \"\"\n      }\n    },\n    {\n      \"column\": \"x4\",\n      \"properties\": {\n        \"dtype\": \"number\",\n        \"std\": 33.81315449653169,\n        \"min\": 86.0,\n        \"max\": 145.05969818073658,\n        \"num_unique_values\": 3,\n        \"samples\": [\n          86.0\n        ],\n        \"semantic_type\": \"\",\n        \"description\": \"\"\n      }\n    },\n    {\n      \"column\": \"y4\",\n      \"properties\": {\n        \"dtype\": \"number\",\n        \"std\": 14.335410462722477,\n        \"min\": 115.59550416592677,\n        \"max\": 143.0,\n        \"num_unique_values\": 3,\n        \"samples\": [\n          122.0\n        ],\n        \"semantic_type\": \"\",\n        \"description\": \"\"\n      }\n    }\n  ]\n}"
            }
          },
          "metadata": {}
        }
      ]
    },
    {
      "cell_type": "markdown",
      "metadata": {
        "id": "f3295a86"
      },
      "source": [
        "## Summary:\n",
        "\n",
        "### Data Analysis Key Findings\n",
        "\n",
        "* The initial code had a typo (`torch_cuda` instead of `torch.cuda`) when checking for GPU availability, which was corrected.\n",
        "* The EasyOCR reader was successfully initialized with 'en' and 'ar' languages and GPU support if available.\n",
        "* OCR detection was successfully performed on the uploaded image.\n",
        "* The initial attempt to annotate and save the image failed due to the helper functions not being defined in the execution environment.\n",
        "* Defining the helper functions, including `annotate_and_save`, within the same code block resolved the `NameError`.\n",
        "* The `annotate_and_save` function successfully annotated the image with bounding boxes and text labels and saved the output.\n",
        "* The OCR detections were successfully converted into a structured pandas DataFrame containing information about the image name, detected text, confidence, and bounding box coordinates.\n",
        "\n",
        "### Insights or Next Steps\n",
        "\n",
        "* The structured DataFrame of detections can be used for further analysis, such as text analysis, data extraction, or integrating with other data sources.\n",
        "* Consider adding error handling for cases where no text is detected in the image or if there are issues with image loading or processing.\n"
      ]
    }
  ]
}