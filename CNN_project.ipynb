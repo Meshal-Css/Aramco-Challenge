{
  "nbformat": 4,
  "nbformat_minor": 0,
  "metadata": {
    "colab": {
      "provenance": [],
      "gpuType": "T4",
      "authorship_tag": "ABX9TyOt+NxYmrrikSQ/LfYIlXpD",
      "include_colab_link": true
    },
    "kernelspec": {
      "name": "python3",
      "display_name": "Python 3"
    },
    "language_info": {
      "name": "python"
    },
    "accelerator": "GPU"
  },
  "cells": [
    {
      "cell_type": "markdown",
      "metadata": {
        "id": "view-in-github",
        "colab_type": "text"
      },
      "source": [
        "<a href=\"https://colab.research.google.com/github/Meshal-Css/Aramco-Challenge/blob/main/CNN_project.ipynb\" target=\"_parent\"><img src=\"https://colab.research.google.com/assets/colab-badge.svg\" alt=\"Open In Colab\"/></a>"
      ]
    },
    {
      "cell_type": "code",
      "execution_count": 1,
      "metadata": {
        "colab": {
          "base_uri": "https://localhost:8080/"
        },
        "id": "zj7tHWNuLEOv",
        "outputId": "8e336356-10f9-408f-f680-05ce6818c758"
      },
      "outputs": [
        {
          "output_type": "stream",
          "name": "stdout",
          "text": [
            "Device: cuda\n"
          ]
        }
      ],
      "source": [
        "!pip -q install torch torchvision\n",
        "\n",
        "import torch, torch.nn as nn, torch.nn.functional as F\n",
        "from torch.utils.data import DataLoader\n",
        "from torchvision import datasets, transforms\n",
        "import matplotlib.pyplot as plt\n",
        "import numpy as np\n",
        "\n",
        "device = torch.device(\"cuda\" if torch.cuda.is_available() else \"cpu\")\n",
        "print(\"Device:\", device)\n"
      ]
    },
    {
      "cell_type": "code",
      "source": [
        "# تحويلات بسيطة: تحويل لتنسور + تطبيع\n",
        "tf_train = transforms.Compose([\n",
        "    transforms.RandomRotation(10),\n",
        "    transforms.ToTensor(),\n",
        "    transforms.Normalize((0.5,), (0.5,))\n",
        "])\n",
        "tf_test = transforms.Compose([\n",
        "    transforms.ToTensor(),\n",
        "    transforms.Normalize((0.5,), (0.5,))\n",
        "])\n",
        "\n",
        "train_ds = datasets.FashionMNIST(root=\"./data\", train=True,  download=True, transform=tf_train)\n",
        "test_ds  = datasets.FashionMNIST(root=\"./data\", train=False, download=True, transform=tf_test)\n",
        "\n",
        "train_dl = DataLoader(train_ds, batch_size=128, shuffle=True)\n",
        "test_dl  = DataLoader(test_ds,  batch_size=256, shuffle=False)\n",
        "\n",
        "classes = [\"T-shirt\", \"Trouser\", \"Pullover\", \"Dress\", \"Coat\",\n",
        "           \"Sandal\", \"Shirt\", \"Sneaker\", \"Bag\", \"Ankle boot\"]\n"
      ],
      "metadata": {
        "colab": {
          "base_uri": "https://localhost:8080/"
        },
        "id": "LA4A3Of4LZHb",
        "outputId": "87e29b54-4f5b-4b2c-b0f1-1eb13bfa6a83"
      },
      "execution_count": 2,
      "outputs": [
        {
          "output_type": "stream",
          "name": "stderr",
          "text": [
            "100%|██████████| 26.4M/26.4M [00:02<00:00, 12.7MB/s]\n",
            "100%|██████████| 29.5k/29.5k [00:00<00:00, 203kB/s]\n",
            "100%|██████████| 4.42M/4.42M [00:01<00:00, 3.76MB/s]\n",
            "100%|██████████| 5.15k/5.15k [00:00<00:00, 28.6MB/s]\n"
          ]
        }
      ]
    },
    {
      "cell_type": "code",
      "source": [
        "# تحويلات بسيطة: تحويل لتنسور + تطبيع\n",
        "tf_train = transforms.Compose([\n",
        "    transforms.RandomRotation(10),\n",
        "    transforms.ToTensor(),\n",
        "    transforms.Normalize((0.5,), (0.5,))\n",
        "])\n",
        "tf_test = transforms.Compose([\n",
        "    transforms.ToTensor(),\n",
        "    transforms.Normalize((0.5,), (0.5,))\n",
        "])\n",
        "\n",
        "train_ds = datasets.FashionMNIST(root=\"./data\", train=True,  download=True, transform=tf_train)\n",
        "test_ds  = datasets.FashionMNIST(root=\"./data\", train=False, download=True, transform=tf_test)\n",
        "\n",
        "train_dl = DataLoader(train_ds, batch_size=128, shuffle=True)\n",
        "test_dl  = DataLoader(test_ds,  batch_size=256, shuffle=False)\n",
        "\n",
        "classes = [\"T-shirt\", \"Trouser\", \"Pullover\", \"Dress\", \"Coat\",\n",
        "           \"Sandal\", \"Shirt\", \"Sneaker\", \"Bag\", \"Ankle boot\"]\n"
      ],
      "metadata": {
        "id": "QtBotHyaLvYs"
      },
      "execution_count": 3,
      "outputs": []
    },
    {
      "cell_type": "code",
      "source": [
        "def accuracy(logits, y):\n",
        "    return (logits.argmax(1) == y).float().mean().item()\n",
        "\n",
        "for epoch in range(5):  # خليه صغير للتجربة الأولى\n",
        "    # تدريب\n",
        "    model.train()\n",
        "    tot_loss, tot_acc, tot_n = 0, 0, 0\n",
        "    for x, y in train_dl:\n",
        "        x, y = x.to(device), y.to(device)\n",
        "        opt.zero_grad()\n",
        "        out = model(x)\n",
        "        loss = criterion(out, y)\n",
        "        loss.backward(); opt.step()\n",
        "        b = y.size(0)\n",
        "        tot_loss += loss.item()*b\n",
        "        tot_acc  += (out.argmax(1)==y).sum().item()\n",
        "        tot_n    += b\n",
        "    train_loss, train_acc = tot_loss/tot_n, tot_acc/tot_n\n",
        "\n",
        "    # اختبار\n",
        "    model.eval()\n",
        "    tot_acc, tot_n = 0, 0\n",
        "    with torch.no_grad():\n",
        "        for x, y in test_dl:\n",
        "            x, y = x.to(device), y.to(device)\n",
        "            out = model(x)\n",
        "            tot_acc += (out.argmax(1)==y).sum().item()\n",
        "            tot_n   += y.size(0)\n",
        "    test_acc = tot_acc/tot_n\n",
        "\n",
        "    print(f\"Epoch {epoch+1}: train_loss={train_loss:.3f}  train_acc={train_acc:.3f}  test_acc={test_acc:.3f}\")\n"
      ],
      "metadata": {
        "colab": {
          "base_uri": "https://localhost:8080/"
        },
        "id": "c7Rq3DTsL3C1",
        "outputId": "7de6a099-29ea-431d-adbb-b4e468707766"
      },
      "execution_count": 6,
      "outputs": [
        {
          "output_type": "stream",
          "name": "stdout",
          "text": [
            "Epoch 1: train_loss=0.596  train_acc=0.787  test_acc=0.831\n",
            "Epoch 2: train_loss=0.443  train_acc=0.837  test_acc=0.852\n",
            "Epoch 3: train_loss=0.404  train_acc=0.852  test_acc=0.851\n",
            "Epoch 4: train_loss=0.383  train_acc=0.858  test_acc=0.860\n",
            "Epoch 5: train_loss=0.365  train_acc=0.865  test_acc=0.861\n"
          ]
        }
      ]
    },
    {
      "cell_type": "code",
      "metadata": {
        "id": "3bb610ef"
      },
      "source": [
        "# Define the model architecture\n",
        "model = nn.Sequential(\n",
        "    nn.Flatten(),\n",
        "    nn.Linear(28*28, 128),\n",
        "    nn.ReLU(),\n",
        "    nn.Linear(128, 64),\n",
        "    nn.ReLU(),\n",
        "    nn.Linear(64, 10)\n",
        ").to(device)\n",
        "\n",
        "# Define the loss function and optimizer\n",
        "criterion = nn.CrossEntropyLoss()\n",
        "opt = torch.optim.Adam(model.parameters(), lr=0.001)"
      ],
      "execution_count": 5,
      "outputs": []
    },
    {
      "cell_type": "code",
      "source": [
        "model.eval()\n",
        "x, y = next(iter(test_dl))\n",
        "x, y = x.to(device), y.to(device)\n",
        "with torch.no_grad():\n",
        "    preds = model(x).argmax(1)\n",
        "\n",
        "# عرض أول 8 صور\n",
        "plt.figure(figsize=(12,3))\n",
        "for i in range(8):\n",
        "    plt.subplot(1,8,i+1)\n",
        "    plt.imshow(x[i].cpu().squeeze(), cmap=\"gray\")\n",
        "    title = f\"P:{classes[preds[i].item()]}\\nT:{classes[y[i].item()]}\"\n",
        "    plt.title(title, fontsize=8)\n",
        "    plt.axis(\"off\")\n",
        "plt.tight_layout()\n",
        "plt.show()\n"
      ],
      "metadata": {
        "colab": {
          "base_uri": "https://localhost:8080/",
          "height": 193
        },
        "id": "nBBrifKWNLJp",
        "outputId": "8719089e-c0e9-4ec3-beca-9bff56b075b7"
      },
      "execution_count": 8,
      "outputs": [
        {
          "output_type": "display_data",
          "data": {
            "text/plain": [
              "<Figure size 1200x300 with 8 Axes>"
            ],
            "image/png": "[encoded data removed]"
          },
          "metadata": {}
        }
      ]
    },
    {
      "cell_type": "markdown",
      "source": [
        "ـ CNN (Convolutional Neural Network)\n",
        "🔹 The Main Idea\n",
        "\n",
        "A CNN is a type of deep neural network designed to understand images and videos.\n",
        "Instead of treating an image as just a big array of numbers, CNNs use filters (kernels) to look for patterns such as:\n",
        "\n",
        "Horizontal / vertical edges\n",
        "\n",
        "Corners\n",
        "\n",
        "Shapes (eye, circle, etc.)\n",
        "\n",
        "As the layers go deeper, the model learns higher-level features (like a face or a car 🚗).\n",
        "\n",
        "🔹 Key Components of a CNN\n",
        "\n",
        "Input Layer\n",
        "\n",
        "Takes the raw image (e.g., 28×28 grayscale or 32×32×3 color).\n",
        "\n",
        "Convolution Layer\n",
        "\n",
        "Applies small filters (like 3×3) sliding over the image.\n",
        "\n",
        "Extracts features (edges, textures).\n",
        "\n",
        "Produces feature maps.\n",
        "\n",
        "Activation Function (ReLU)\n",
        "\n",
        "Adds non-linearity so the network can learn complex things.\n",
        "\n",
        "Formula: ReLU(x) = max(0, x).\n",
        "\n",
        "Pooling Layer\n",
        "\n",
        "Reduces the image size (downsampling).\n",
        "\n",
        "Common type: Max Pooling (takes the largest value in each region).\n",
        "\n",
        "Goal: fewer computations, keep important info.\n",
        "\n",
        "Flatten Layer\n",
        "\n",
        "Turns the 2D feature maps into a 1D vector.\n",
        "\n",
        "Fully Connected (Dense) Layer\n",
        "\n",
        "Combines the extracted features.\n",
        "\n",
        "Works like the “brain” to decide if the image is, for example, a cat or a dog.\n",
        "\n",
        "Output Layer\n",
        "\n",
        "Gives final probabilities using Softmax.\n",
        "\n",
        "Example: [Cat: 0.95, Dog: 0.04, Car: 0.01].\n",
        "\n",
        "🔹 How CNN Works (Example with a Cat Image 🐱)\n",
        "\n",
        "First layers → detect simple edges.\n",
        "\n",
        "Next layers → detect shapes like eyes, ears.\n",
        "\n",
        "Final layers → combine everything → decide “This is a cat.”\n",
        "\n",
        "🔹 CNN vs Traditional Neural Network\n",
        "\n",
        "MLP (traditional fully connected network): looks at every pixel at once (too heavy).\n",
        "\n",
        "CNN: looks at small regions → more efficient and accurate for images.\n",
        "\n",
        "📌 Summary:\n",
        "CNNs = the “eyes + brain” of a computer, first detecting small patterns and then combining them to understand the full picture."
      ],
      "metadata": {
        "id": "IkyH995LuSa1"
      }
    }
  ]
}